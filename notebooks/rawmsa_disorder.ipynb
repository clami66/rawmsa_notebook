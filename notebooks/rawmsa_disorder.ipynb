{
 "cells": [
  {
   "cell_type": "markdown",
   "id": "d3f33a8b-eb07-4c4d-bb97-1ee9ceb5e0a1",
   "metadata": {},
   "source": [
    "# <font color='#2684ff'>rawMSA_disorder: a server to predict protein disorder</font>\n",
    "\n",
    "<img src=\"https://github.com/clami66/AF_unmasked/raw/main/fig/header.png\" height=\"200\">\n",
    "\n",
    "Predict per-residue disorder probabilities given a protein sequence.\n",
    "\n",
    "This version of rawMSA_disorder relies on MMseqs2 alignments, run by the [ColabFold](https://github.com/sokrypton/ColabFold) MSA server. Some of the code on this notebook is also based or taken from the ColabFold notebook.\n",
    "\n",
    "<font color='#2684ff'>**References**</font>\n",
    "\n",
    "If you use this version of rawMSA_disorder in your research, consider citing:\n",
    "\n",
    "- Mirabello et al. \"rawMSA: End-to-end Deep Learning using raw Multiple Sequence Alignments\" [10.1371/journal.pone.0220182](https://journals.plos.org/plosone/article?id=10.1371/journal.pone.0220182)\n",
    "- Mirdita et al. \"ColabFold: making protein folding accessible to all\" [Nature Methods volume 19, pages 679–682 (2022)](https://www.nature.com/articles/s41592-022-01488-1)\n",
    "\n",
    "## <font color='#2684ff'>Instructions</font>\n",
    "\n",
    "The job is configured and launched from the side menu on the left. \n",
    "\n",
    "1. <font color='#2684ff'> **Select a sequence**</font>. You can either:\n",
    "    * Upload a .fasta file containing a single protein sequence to predict;\n",
    "    * Paste a sequence in the text box;\n",
    "    * Run an example sequence ([P53_human](https://www.uniprot.org/uniprotkb/P04637/entry) protein)\n",
    "1. <font color='#2684ff'> **Press the \"Predict disorder\" button**</font>\n",
    "1. <font color='#2684ff'> **Check and download outputs**</font>. Results will appear in this window. To download the predictions, click on \"Output files\" at the bottom of the side menu.\n",
    "\n",
    "## <font color='#2684ff'>Outputs</font>\n",
    "\n",
    "Outputs will appear below:\n"
   ]
  },
  {
   "cell_type": "code",
   "execution_count": 1,
   "id": "ca59c215-3dd7-42e6-8ca9-dfbea30047de",
   "metadata": {},
   "outputs": [
    {
     "name": "stderr",
     "output_type": "stream",
     "text": [
      "2025-01-22 13:21:59.988087: I tensorflow/core/platform/cpu_feature_guard.cc:193] This TensorFlow binary is optimized with oneAPI Deep Neural Network Library (oneDNN) to use the following CPU instructions in performance-critical operations:  AVX2 FMA\n",
      "To enable them in other operations, rebuild TensorFlow with the appropriate compiler flags.\n"
     ]
    }
   ],
   "source": [
    "import mercury as mr\n",
    "\n",
    "import tqdm\n",
    "import numpy as np\n",
    "import sys, os\n",
    "import shutil\n",
    "import random\n",
    "\n",
    "from pathlib import Path\n",
    "cwd = Path.cwd()\n",
    "base_path = \"/home/clami66/rawmsa_disorder\"\n",
    "sys.path.insert(0, f\"{base_path}/docker/\")\n",
    "\n",
    "import argparse\n",
    "from time import gmtime, strftime\n",
    "import time\n",
    "import csv\n",
    "\n",
    "from tqdm import tqdm\n",
    "import glob\n",
    "import importlib_metadata\n",
    "\n",
    "from Bio import SeqIO\n",
    "import tensorflow as tf\n",
    "import numpy as np\n",
    "from numpy import newaxis\n",
    "import matplotlib.pyplot as plt\n",
    "from utils.NetUtils import CustomMetrics, DataProcessor, a3m2aln, aln2num, pad_or_trim_array\n",
    "from colabfold.batch import get_msa_and_templates, msa_to_str\n",
    "from colabfold.utils import DEFAULT_API_SERVER, get_commit\n",
    "\n",
    "class color:\n",
    "   PURPLE = '\\033[95m'\n",
    "   CYAN = '\\033[96m'\n",
    "   DARKCYAN = '\\033[36m'\n",
    "   BLUE = '\\033[94m'\n",
    "   GREEN = '\\033[92m'\n",
    "   YELLOW = '\\033[93m'\n",
    "   RED = '\\033[91m'\n",
    "   BOLD = '\\033[1m'\n",
    "   UNDERLINE = '\\033[4m'\n",
    "   END = '\\033[0m'\n"
   ]
  },
  {
   "cell_type": "code",
   "execution_count": 15,
   "id": "83f4373f-c264-4f28-ae94-d4a63424dd41",
   "metadata": {},
   "outputs": [
    {
     "data": {
      "application/mercury+json": "{\n    \"widget\": \"App\",\n    \"title\": \"rawMSA_disorder\",\n    \"description\": \"\",\n    \"show_code\": false,\n    \"show_prompt\": false,\n    \"output\": \"app\",\n    \"schedule\": \"\",\n    \"notify\": \"{}\",\n    \"continuous_update\": true,\n    \"static_notebook\": false,\n    \"show_sidebar\": true,\n    \"full_screen\": true,\n    \"allow_download\": false,\n    \"allow_share\": true,\n    \"stop_on_error\": true,\n    \"model_id\": \"mercury-app\",\n    \"code_uid\": \"App.0.50.110.4-randda729c4b\"\n}",
      "text/html": [
       "<h3>Mercury Application</h3><small>This output won't appear in the web app.</small>"
      ],
      "text/plain": [
       "mercury.App"
      ]
     },
     "metadata": {},
     "output_type": "display_data"
    },
    {
     "data": {
      "application/mercury+json": "{\n    \"widget\": \"Checkbox\",\n    \"value\": false,\n    \"label\": \"Check the box to run with test data\",\n    \"model_id\": \"a9eb849ee0514f608fbec1a4874bafad\",\n    \"code_uid\": \"Checkbox.0.50.70.17-randb63627c1\",\n    \"url_key\": \"\",\n    \"disabled\": false,\n    \"hidden\": false\n}",
      "application/vnd.jupyter.widget-view+json": {
       "model_id": "a9eb849ee0514f608fbec1a4874bafad",
       "version_major": 2,
       "version_minor": 0
      },
      "text/plain": [
       "mercury.Checkbox"
      ]
     },
     "metadata": {},
     "output_type": "display_data"
    }
   ],
   "source": [
    "# config\n",
    "trained_models = f\"{base_path}/docker/data/models\"\n",
    "\n",
    "app = mr.App(title=\"rawMSA_disorder\",\n",
    "        description=\"\",\n",
    "        show_code=False,\n",
    "        show_prompt=False,\n",
    "        continuous_update=True,\n",
    "        static_notebook=False,\n",
    "        show_sidebar=True,\n",
    "        full_screen=True,\n",
    "        allow_download=False,\n",
    "        allow_share=True,\n",
    "        stop_on_error=True\n",
    ")"
   ]
  },
  {
   "cell_type": "code",
   "execution_count": 16,
   "id": "5ffff6ab-9bf1-4d37-a107-7fefcdc9420e",
   "metadata": {},
   "outputs": [
    {
     "data": {
      "application/mercury+json": "{\n    \"widget\": \"Text\",\n    \"value\": \"\",\n    \"sanitize\": true,\n    \"rows\": 1,\n    \"label\": \"Job name\",\n    \"model_id\": \"3aaf672174a5402a86be8d41945cde26\",\n    \"code_uid\": \"Text.0.50.78.1-rande17f2a1c\",\n    \"url_key\": \"\",\n    \"disabled\": false,\n    \"hidden\": false\n}",
      "application/vnd.jupyter.widget-view+json": {
       "model_id": "3aaf672174a5402a86be8d41945cde26",
       "version_major": 2,
       "version_minor": 0
      },
      "text/plain": [
       "mercury.Text"
      ]
     },
     "metadata": {},
     "output_type": "display_data"
    }
   ],
   "source": [
    "rand_id = \"\".join(random.choice('0123456789ABCDEF') for i in range(16))\n",
    "jobname = mr.Text(value=rand_id, label=\"Job name\", rows=1, disabled=True)\n",
    "if not jobname.value:\n",
    "    mr.Stop()"
   ]
  },
  {
   "cell_type": "code",
   "execution_count": 17,
   "id": "3b0555bf-928f-4381-8089-1d66dab2766a",
   "metadata": {},
   "outputs": [
    {
     "data": {
      "application/mercury+json": "{\n    \"widget\": \"OutputDir\",\n    \"model_id\": \"output-dir\",\n    \"code_uid\": \"OutputDir.0.50.18.1-rand79c2a3bc\"\n}",
      "text/html": [
       "<h3>Output Directory</h3><small>This output won't appear in the web app.</small>"
      ],
      "text/plain": [
       "mercury.OutputDir"
      ]
     },
     "metadata": {},
     "output_type": "display_data"
    }
   ],
   "source": [
    "\n",
    "\n",
    "outdir = mr.OutputDir()\n",
    "\n",
    "out_path = Path(outdir.path)\n",
    "out_path.mkdir(parents=True, exist_ok=True)\n",
    "targets = out_path.joinpath(f\"{jobname.value}.fasta\")"
   ]
  },
  {
   "cell_type": "code",
   "execution_count": 18,
   "id": "90506a70-90d3-4c46-8852-69c59f78f63c",
   "metadata": {},
   "outputs": [
    {
     "data": {
      "application/mercury+json": "{\n    \"widget\": \"File\",\n    \"max_file_size\": \"1MB\",\n    \"label\": \"Upload a .fasta file for one target protein\",\n    \"model_id\": \"b35dd991227241b48cdde2350cc39842\",\n    \"code_uid\": \"File.0.50.74.5-rand92468f39\",\n    \"disabled\": false,\n    \"hidden\": false\n}",
      "application/vnd.jupyter.widget-view+json": {
       "model_id": "b35dd991227241b48cdde2350cc39842",
       "version_major": 2,
       "version_minor": 0
      },
      "text/plain": [
       "mercury.File"
      ]
     },
     "metadata": {},
     "output_type": "display_data"
    }
   ],
   "source": [
    "# add file upload widget\n",
    "\n",
    "f = mr.File(label=\"Upload a .fasta file for one target protein:\", max_file_size=\"1MB\")\n",
    "fasta = f.filepath\n",
    "\n",
    "f2 = mr.Text(value=\"\", label=\"Or paste the sequence here:\", rows=5, url_key=\"sequence\")\n",
    "fasta2 = f2.value\n",
    "\n",
    "test_checkbox = mr.Checkbox(value=False, label=\"Or run with test protein (P53_HUMAN):\")\n",
    "is_test = test_checkbox.value\n",
    "\n",
    "if not fasta and not fasta2 and not is_test:\n",
    "    mr.Stop()"
   ]
  },
  {
   "cell_type": "code",
   "execution_count": 6,
   "id": "d5332a14-01d0-46ff-85e9-13f023e3cfcc",
   "metadata": {},
   "outputs": [],
   "source": [
    "if fasta:\n",
    "    fasta = Path(fasta)\n",
    "elif fasta2:\n",
    "    if \">\" not in fasta2: # attempt to add header\n",
    "        fasta2 = f\">{jobname.value}\\n{fasta2}\"\n",
    "    with open(f\"{out_path}/sequence.fasta\", \"w\") as out_fasta:\n",
    "        out_fasta.write(fasta2)\n",
    "    fasta = Path(f\"{out_path}/sequence.fasta\")\n",
    "elif is_test:\n",
    "    fasta = Path(f\"{base_path}/input_fasta/test.fasta\")"
   ]
  },
  {
   "cell_type": "code",
   "execution_count": 12,
   "id": "86bc8c82-8651-459f-bb18-5b9d9849cfda",
   "metadata": {},
   "outputs": [
    {
     "name": "stdout",
     "output_type": "stream",
     "text": [
      "Fasta sequences:\n",
      ">12E8_2\n",
      "EVQLQQSGAEVVRSGASVKLSCTASGFNIKDYYIHWVKQRPEKGLEWIGWIDPEIGDTEYVPKFQGKATMTADTSSNTAYLQLSSLTSEDTAVYYCNAGHDYDRGRFPYWGQGTLVTVSAAKTTPPSVYPLAPGSAAQTNSMVTLGCLVKGYFPEPVTVTWNSGSLSSGVHTFPAVLQSDLYTLSSSVTVPSSTWPSETVTCNVAHPASSTKVDKKIVPRD\n",
      "\n"
     ]
    }
   ],
   "source": [
    "def is_fasta(path):\n",
    "    records = list(SeqIO.parse(path, \"fasta\"))\n",
    "    return records if records else None\n",
    "\n",
    "_ = shutil.copyfile(fasta, targets)\n",
    "\n",
    "records = is_fasta(targets)\n",
    "if not records:\n",
    "  raise ValueError(\"\"\"The input does not appear to be in fasta format\n",
    "  Example of fasta format input:\n",
    "  > H1142_A\n",
    "  GLEKDFLPLYFGWFLTK...\n",
    "  > H1142_B\n",
    "  EVQLEESGGGLVQAGGS...\n",
    "  \"\"\")\n",
    "elif len(records) > 1:\n",
    "  raise ValueError(f\"Detected {len(records)} sequences in .fasta file. Please upload a single sequence at a time\")\n",
    "\n",
    "with open(targets, \"r\") as f:\n",
    "  print(color.BOLD + color.BLUE + \"Predicting fasta sequence:\" + color.END)\n",
    "  print(f.read())\n",
    "\n",
    "record = records[0]"
   ]
  },
  {
   "cell_type": "code",
   "execution_count": null,
   "id": "50b2261e-37aa-4c3c-add6-a4f91fdd2175",
   "metadata": {},
   "outputs": [],
   "source": [
    "run = mr.Button(label=\"Predict disorder\")"
   ]
  },
  {
   "cell_type": "code",
   "execution_count": 8,
   "id": "94706ade-ee4f-46a0-90ae-b31ff0c99b4b",
   "metadata": {},
   "outputs": [],
   "source": [
    "msa_lines = None\n",
    "use_templates = False\n",
    "custom_template_path = None\n",
    "pair_mode = \"unpaired\"\n",
    "pairing_strategy = \"greedy\"\n",
    "host_url = DEFAULT_API_SERVER\n",
    "version = importlib_metadata.version(\"colabfold\")\n",
    "commit = get_commit()\n",
    "if commit:\n",
    "  version += f\" ({commit})\"\n",
    "user_agent = f\"colabfold/{version}\"\n",
    "\n",
    "msa_file_path = f\"{out_path}/{jobname.value}.a3m\"\n",
    "\n",
    "if run.clicked:\n",
    "    if not os.path.exists(msa_file_path):\n",
    "        print(color.BOLD + color.BLUE + \"Running ColabFold MSA server query...\"  + color.END)\n",
    "        unpaired_msa, paired_msa, query_seqs_unique, query_seqs_cardinality, template_features = get_msa_and_templates(jobname.value, \n",
    "                                                                                                                       [str(r.seq) for r in records], \n",
    "                                                                                                                       msa_lines, \n",
    "                                                                                                                       out_path, \n",
    "                                                                                                                       \"mmseqs2_uniref\", \n",
    "                                                                                                                       use_templates,\n",
    "                                                                                                                       custom_template_path, \n",
    "                                                                                                                       pair_mode, \n",
    "                                                                                                                       pairing_strategy, \n",
    "                                                                                                                       host_url, \n",
    "                                                                                                                       user_agent)\n",
    "    \n",
    "        with open(msa_file_path, \"w\") as msa_out:\n",
    "            msa_out.write(unpaired_msa[0])\n",
    "    \n",
    "    a3m2aln(msa_file_path, f\"{out_path}/{jobname.value}.aln\")  #a3m to aln\n",
    "    aln2num(f\"{out_path}/{jobname.value}.aln\", f\"{out_path}/{jobname.value}.num\")   # aln2num\n",
    "    \n",
    "    # NUM to feature .npy\n",
    "    msa_array = np.loadtxt(f\"{out_path}/{jobname.value}.num\", dtype=int)\n",
    "    if len(np.shape(msa_array)) == 1:\n",
    "        msa_array = msa_array[np.newaxis, :]\n",
    "    else:\n",
    "        msa_array_ = pad_or_trim_array(msa_array, 3000).T\n",
    "        data = {'features': msa_array_}   # Fill feature set\n",
    "        np.save(f\"{out_path}/{jobname.value}.npy\", data)\n",
    "\n",
    "    models = []\n",
    "    for model_path in glob.glob(f\"{trained_models}/*\"):\n",
    "        alignment_max_depth = int(model_path.split('_')[-4]) # Required model_name to be in a specific_format\n",
    "        model = tf.keras.models.load_model(model_path, custom_objects={\"balanced_acc\": CustomMetrics.balanced_acc})\n",
    "        models.append((model, alignment_max_depth))\n",
    "    \n",
    "    exec_times = []\n",
    "    print(color.BOLD + color.BLUE + \"Predicting disorder...\"  + color.END)\n",
    "    \n",
    "    start_time = time.time()\n",
    "    list_y = []\n",
    "    for ew_model, alignment_max_depth in models:\n",
    "        features = np.load(f\"{out_path}/{jobname.value}.npy\", allow_pickle=True).item()['features']\n",
    "        X = features[:, :alignment_max_depth][np.newaxis, :] #.reshape(length * alignment_max_depth)[np.newaxis, :]\n",
    "    \n",
    "        y = ew_model.predict(X,verbose=0)\n",
    "        list_y.append(np.squeeze(y))\n",
    "    mean_y = np.mean(list_y, axis=0)                    # Compute mean logits\n",
    "    mean_y = tf.nn.softmax(mean_y, axis=1, name=None)   # Apply softmaax on mean logits\n",
    "    logits_positive = mean_y[:,1]                       # Get positive probs\n",
    "    y_binary = np.argmax(mean_y, axis=-1)               # Binarize\n",
    "    \n",
    "    # Write results to file\n",
    "    with open(f'{out_path}/{jobname.value}.caid', 'w') as reader: \n",
    "        reader.write(f'>{jobname.value}\\n')\n",
    "        for (i, residue, logit, pred) in zip(range(len(record.seq)), list(record.seq), logits_positive, y_binary):\n",
    "            reader.write('{}\\t{}\\t{:.3f}\\t{}\\n'.format(i + 1, residue, logit, pred)) \n",
    "    end_time = time.time()\n",
    "    exec_times.append(end_time - start_time)\n",
    "    \n",
    "    fig = plt.figure(figsize=(10,10))\n",
    "    gs = fig.add_gridspec(10) \n",
    "    \n",
    "    # Define subplots with unequal sizes\n",
    "    ax1 = fig.add_subplot(gs[:8]) \n",
    "    ax2 = fig.add_subplot(gs[8]) \n",
    "    ax3 = fig.add_subplot(gs[9]) \n",
    "    \n",
    "    res_1 = np.array(logits_positive).reshape(-1,1)\n",
    "    res_2 = np.array(y_binary).reshape(-1,1)\n",
    "    \n",
    "    ax1.imshow(X[0].T, aspect='auto', cmap='tab20b')\n",
    "    ax2.imshow(res_1.T, aspect='auto' , vmin=0, vmax=1)\n",
    "    ax3.imshow(res_2.T, aspect='auto', cmap='binary')\n",
    "    plt.tight_layout()\n",
    "    plt.show()"
   ]
  },
  {
   "attachments": {
    "e9ed7f82-4084-408b-b6a5-4a7279306497.png": {
     "image/png": "[encoded data removed]"
    }
   },
   "cell_type": "markdown",
   "id": "c3cdf09e-2a3a-499b-a640-4b7b80f0b977",
   "metadata": {},
   "source": [
    "## <font color='#2684ff'>Download results </font>\n",
    "\n",
    "Click on the button at the bottom of the menu:\n",
    "\n",
    "![image.png](attachment:e9ed7f82-4084-408b-b6a5-4a7279306497.png)\n"
   ]
  }
 ],
 "metadata": {
  "kernelspec": {
   "display_name": "Python 3 (ipykernel)",
   "language": "python",
   "name": "python3"
  },
  "language_info": {
   "codemirror_mode": {
    "name": "ipython",
    "version": 3
   },
   "file_extension": ".py",
   "mimetype": "text/x-python",
   "name": "python",
   "nbconvert_exporter": "python",
   "pygments_lexer": "ipython3",
   "version": "3.10.15"
  }
 },
 "nbformat": 4,
 "nbformat_minor": 5
}
